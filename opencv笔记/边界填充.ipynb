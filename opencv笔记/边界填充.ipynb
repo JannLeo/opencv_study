{
 "cells": [
  {
   "cell_type": "markdown",
   "id": "1448db97-5603-4b54-9882-5e48687e5a9a",
   "metadata": {},
   "source": [
    "### 边界填充\n",
    "- 对图像大小进行扩大\n",
    "- 边界填充的入口参数：\n",
    "\n",
    "1. BORDER_REPLICATE：复制法，也就是复制最边缘像素。\n",
    "2. BORDER_REFLECT：反射法，对感兴趣的图像中的像素在两边进行复制例如：fedcba|abcdefgh|hgfedcb\n",
    "3. BORDER_REFLECT_101：反射法，也就是以最边缘像素为轴，对称，gfedcb|abcdefgh|gfedcba\n",
    "4. BORDER_WRAP：外包装法cdefgh|abcdefgh|abcdefg\n",
    "5. BORDER_CONSTANT：常量法，常数值填充。"
   ]
  },
  {
   "cell_type": "code",
   "execution_count": null,
   "id": "d209f185-9370-47a2-a02d-473be257f15a",
   "metadata": {},
   "outputs": [],
   "source": [
    "import cv2 #opencv的缩写为cv2\n",
    "import matplotlib.pyplot as plt # matplotlib库用于绘图展示\n",
    "import numpy as np   # numpy数值计算工具包\n",
    "\n",
    "# 魔法指令，直接展示图，Jupyter notebook特有\n",
    "%matplotlib inline   "
   ]
  },
  {
   "cell_type": "code",
   "execution_count": null,
   "id": "9b6d2fff-13fa-41ae-a4a4-0848ac518d86",
   "metadata": {},
   "outputs": [],
   "source": [
    "img = cv2.imread('01_Picture/01_cat.jpg')\n",
    "\n",
    "top_size,bottom_size,left_size,right_size = (50,50,50,50)  # 填充多少区域\n",
    "\n",
    "# 最后一个入口参数为填充方式\n",
    "\n",
    "# 方式一：复制法\n",
    "replicate = cv2.copyMakeBorder(img,top_size,bottom_size,left_size,right_size,borderType=cv2.BORDER_REPLICATE) \n",
    "# 方式二：反射法\n",
    "reflect = cv2.copyMakeBorder(img,top_size,bottom_size,left_size,right_size,cv2.BORDER_REFLECT)\n",
    "# 方式三：反射法二(不要最边缘的像素)\n",
    "reflect101 = cv2.copyMakeBorder(img,top_size,bottom_size,left_size,right_size,cv2.BORDER_REFLECT_101)      \n",
    "# 方式四：外包装法\n",
    "wrap = cv2.copyMakeBorder(img,top_size,bottom_size,left_size,right_size,borderType=cv2.BORDER_WRAP)\n",
    "# 方式五：常量法\n",
    "constant = cv2.copyMakeBorder(img,top_size,bottom_size,left_size,right_size,cv2.BORDER_CONSTANT,value=0)"
   ]
  },
  {
   "cell_type": "code",
   "execution_count": null,
   "id": "32f2dfe1-b074-4fd4-a7b8-152f9130c93e",
   "metadata": {},
   "outputs": [],
   "source": [
    "import matplotlib.pyplot as plt\n",
    "plt.subplot(231), plt.imshow(img,'gray'), plt.title('ORIGINAL')\n",
    "plt.subplot(232), plt.imshow(replicate,'gray'), plt.title('REPLICATE')\n",
    "plt.subplot(233), plt.imshow(reflect,'gray'), plt.title('REPLECT')\n",
    "plt.subplot(234), plt.imshow(wrap,'gray'),plt.title('REFLECT_101')\n",
    "plt.subplot(235), plt.imshow(wrap,'gray'),plt.title('WRAP')\n",
    "plt.subplot(236), plt.imshow(constant,'gray'),plt.title('CONSTAVI')\n",
    "\n",
    "plt.show()"
   ]
  }
 ],
 "metadata": {
  "kernelspec": {
   "display_name": "Python 3 (ipykernel)",
   "language": "python",
   "name": "python3"
  },
  "language_info": {
   "codemirror_mode": {
    "name": "ipython",
    "version": 3
   },
   "file_extension": ".py",
   "mimetype": "text/x-python",
   "name": "python",
   "nbconvert_exporter": "python",
   "pygments_lexer": "ipython3",
   "version": "3.12.0"
  }
 },
 "nbformat": 4,
 "nbformat_minor": 5
}
