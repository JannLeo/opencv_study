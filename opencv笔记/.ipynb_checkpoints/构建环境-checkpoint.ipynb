{
 "cells": [
  {
   "cell_type": "markdown",
   "id": "ce70d0c6-f4b9-4f51-9b34-4713737b03ed",
   "metadata": {},
   "source": [
    "### 构建环境\n",
    "- 在cmd中确认python版本为3.12\n",
    "- 然后执行 pip install opencv-python\n",
    "- 最后执行 pip install jupyter\n",
    "- 然后在你想要做笔记的路径下执行cmd 后 执行jupyter notebook就可以了"
   ]
  }
 ],
 "metadata": {
  "kernelspec": {
   "display_name": "Python 3 (ipykernel)",
   "language": "python",
   "name": "python3"
  },
  "language_info": {
   "codemirror_mode": {
    "name": "ipython",
    "version": 3
   },
   "file_extension": ".py",
   "mimetype": "text/x-python",
   "name": "python",
   "nbconvert_exporter": "python",
   "pygments_lexer": "ipython3",
   "version": "3.12.0"
  }
 },
 "nbformat": 4,
 "nbformat_minor": 5
}
